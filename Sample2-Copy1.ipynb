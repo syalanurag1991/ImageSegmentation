{
 "cells": [
  {
   "cell_type": "code",
   "execution_count": null,
   "metadata": {},
   "outputs": [
    {
     "name": "stderr",
     "output_type": "stream",
     "text": [
      "/anaconda/envs/py35/lib/python3.5/site-packages/h5py/__init__.py:36: FutureWarning: Conversion of the second argument of issubdtype from `float` to `np.floating` is deprecated. In future, it will be treated as `np.float64 == np.dtype(float).type`.\n",
      "  from ._conv import register_converters as _register_converters\n"
     ]
    },
    {
     "name": "stdout",
     "output_type": "stream",
     "text": [
      "Default GPU Device: /device:GPU:0\n",
      "INFO:tensorflow:Restoring parameters from ./data/vgg/variables/variables\n",
      "WARNING:tensorflow:From <ipython-input-2-f7c7eea07d1f>:265: softmax_cross_entropy_with_logits (from tensorflow.python.ops.nn_ops) is deprecated and will be removed in a future version.\n",
      "Instructions for updating:\n",
      "\n",
      "Future major versions of TensorFlow will allow gradients to flow\n",
      "into the labels input on backprop by default.\n",
      "\n",
      "See @{tf.nn.softmax_cross_entropy_with_logits_v2}.\n",
      "\n",
      "Model build successful, starting training\n"
     ]
    },
    {
     "name": "stderr",
     "output_type": "stream",
     "text": [
      "/anaconda/envs/py35/lib/python3.5/site-packages/ipykernel/__main__.py:139: DeprecationWarning: `imread` is deprecated!\n",
      "`imread` is deprecated in SciPy 1.0.0, and will be removed in 1.2.0.\n",
      "Use ``imageio.imread`` instead.\n",
      "/anaconda/envs/py35/lib/python3.5/site-packages/ipykernel/__main__.py:139: DeprecationWarning: `imresize` is deprecated!\n",
      "`imresize` is deprecated in SciPy 1.0.0, and will be removed in 1.2.0.\n",
      "Use ``skimage.transform.resize`` instead.\n",
      "/anaconda/envs/py35/lib/python3.5/site-packages/ipykernel/__main__.py:141: DeprecationWarning: `imread` is deprecated!\n",
      "`imread` is deprecated in SciPy 1.0.0, and will be removed in 1.2.0.\n",
      "Use ``imageio.imread`` instead.\n",
      "/anaconda/envs/py35/lib/python3.5/site-packages/ipykernel/__main__.py:141: DeprecationWarning: `imresize` is deprecated!\n",
      "`imresize` is deprecated in SciPy 1.0.0, and will be removed in 1.2.0.\n",
      "Use ``skimage.transform.resize`` instead.\n"
     ]
    }
   ],
   "source": [
    "    image_paths = glob(os.path.join(data_folder, 'image_2', '*.png'))\n",
    "    label_paths = {\n",
    "            re.sub(r'_(lane|road)_', '_', os.path.basename(path)): path\n",
    "            for path in glob(os.path.join(data_folder, 'gt_image_2', '*_road_*.png'))}\n",
    "        background_color = np.array([255, 0, 0])\n",
    "    \n",
    "    #for image_file in glob(os.path.join(data_folder, 'image_2', '*.png')):\n",
    "    for image_file in image_paths:\n",
    "        # resize image\n",
    "        image = scipy.misc.imresize(scipy.misc.imread(image_file), image_shape)\n",
    "        \n",
    "        # resize ground truth\n",
    "        gt_image_file = label_paths[os.path.basename(image_file)]\n",
    "        gt_image = scipy.misc.imresize(scipy.misc.imread(gt_image_file), image_shape)\n",
    "        gt_bg = np.all(gt_image == background_color, axis=2)\n",
    "        gt_bg = gt_bg.reshape(*gt_bg.shape, 1)\n",
    "        gt_image = np.concatenate((gt_bg, np.invert(gt_bg)), axis=2)\n",
    "        #np_image = np.array(image)\n",
    "        np_gt = np.array(gt_image)\n",
    "        \n",
    "        #loss, _ = sess.run([cross_entropy_loss, train_op],\n",
    "        #                   feed_dict={input_image: X_batch, correct_label: gt_batch,\n",
    "        #                              keep_prob: keep_prob_value, learning_rate: learning_rate_value})\n",
    "        #total_loss += loss\n",
    "        \n",
    "        im_softmax = sess.run(\n",
    "            [tf.nn.softmax(logits)],\n",
    "            {keep_prob: 1.0, image_pl: [image]})\n",
    "        im_softmax = im_softmax[0][:, 1].reshape(image_shape[0], image_shape[1])\n",
    "        segmentation = (im_softmax > 0.5).reshape(image_shape[0], image_shape[1], 1)\n",
    "\n",
    "        if print_once:\n",
    "            #print(\"\\nPrediction: \")\n",
    "            #print(im_softmax)\n",
    "            print(\"\\nMask: \")\n",
    "            print(segmentation)\n",
    "            print_once = False"
   ]
  },
  {
   "cell_type": "code",
   "execution_count": null,
   "metadata": {},
   "outputs": [],
   "source": []
  }
 ],
 "metadata": {
  "kernelspec": {
   "display_name": "Python [default]",
   "language": "python",
   "name": "python3"
  },
  "language_info": {
   "codemirror_mode": {
    "name": "ipython",
    "version": 3
   },
   "file_extension": ".py",
   "mimetype": "text/x-python",
   "name": "python",
   "nbconvert_exporter": "python",
   "pygments_lexer": "ipython3",
   "version": "3.5.5"
  }
 },
 "nbformat": 4,
 "nbformat_minor": 2
}
